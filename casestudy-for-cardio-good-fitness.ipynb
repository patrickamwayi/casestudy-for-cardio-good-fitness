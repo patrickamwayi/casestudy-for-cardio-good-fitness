{
 "cells": [
  {
   "cell_type": "code",
   "execution_count": 1,
   "id": "a6f70a29",
   "metadata": {},
   "outputs": [],
   "source": [
    "# imports\n",
    "import warnings\n",
    "warnings.filterwarnings('ignore')\n",
    "import numpy as np\n",
    "import pandas as pd\n",
    "import seaborn as sns\n",
    "import matplotlib.pyplot as plt\n",
    "from sklearn.preprocessing import scale, StandardScaler\n",
    "from sklearn.linear_model import LogisticRegression\n",
    "from sklearn.neighbors import KNeighborsClassifier\n",
    "from sklearn.tree import DecisionTreeClassifier\n",
    "from sklearn.ensemble import RandomForestClassifier\n",
    "\n",
    "import env"
   ]
  },
  {
   "cell_type": "markdown",
   "id": "8f8a95ff",
   "metadata": {},
   "source": [
    "## I. Acquire Data"
   ]
  },
  {
   "cell_type": "code",
   "execution_count": 4,
   "id": "8d5ce484",
   "metadata": {},
   "outputs": [
    {
     "data": {
      "text/html": [
       "<div>\n",
       "<style scoped>\n",
       "    .dataframe tbody tr th:only-of-type {\n",
       "        vertical-align: middle;\n",
       "    }\n",
       "\n",
       "    .dataframe tbody tr th {\n",
       "        vertical-align: top;\n",
       "    }\n",
       "\n",
       "    .dataframe thead th {\n",
       "        text-align: right;\n",
       "    }\n",
       "</style>\n",
       "<table border=\"1\" class=\"dataframe\">\n",
       "  <thead>\n",
       "    <tr style=\"text-align: right;\">\n",
       "      <th></th>\n",
       "      <th>Product</th>\n",
       "      <th>Age</th>\n",
       "      <th>Gender</th>\n",
       "      <th>Education</th>\n",
       "      <th>MaritalStatus</th>\n",
       "      <th>Usage</th>\n",
       "      <th>Fitness</th>\n",
       "      <th>Income</th>\n",
       "      <th>Miles</th>\n",
       "    </tr>\n",
       "  </thead>\n",
       "  <tbody>\n",
       "    <tr>\n",
       "      <th>0</th>\n",
       "      <td>TM195</td>\n",
       "      <td>18</td>\n",
       "      <td>Male</td>\n",
       "      <td>14</td>\n",
       "      <td>Single</td>\n",
       "      <td>3</td>\n",
       "      <td>4</td>\n",
       "      <td>29562</td>\n",
       "      <td>112</td>\n",
       "    </tr>\n",
       "    <tr>\n",
       "      <th>1</th>\n",
       "      <td>TM195</td>\n",
       "      <td>19</td>\n",
       "      <td>Male</td>\n",
       "      <td>15</td>\n",
       "      <td>Single</td>\n",
       "      <td>2</td>\n",
       "      <td>3</td>\n",
       "      <td>31836</td>\n",
       "      <td>75</td>\n",
       "    </tr>\n",
       "    <tr>\n",
       "      <th>2</th>\n",
       "      <td>TM195</td>\n",
       "      <td>19</td>\n",
       "      <td>Female</td>\n",
       "      <td>14</td>\n",
       "      <td>Partnered</td>\n",
       "      <td>4</td>\n",
       "      <td>3</td>\n",
       "      <td>30699</td>\n",
       "      <td>66</td>\n",
       "    </tr>\n",
       "    <tr>\n",
       "      <th>3</th>\n",
       "      <td>TM195</td>\n",
       "      <td>19</td>\n",
       "      <td>Male</td>\n",
       "      <td>12</td>\n",
       "      <td>Single</td>\n",
       "      <td>3</td>\n",
       "      <td>3</td>\n",
       "      <td>32973</td>\n",
       "      <td>85</td>\n",
       "    </tr>\n",
       "    <tr>\n",
       "      <th>4</th>\n",
       "      <td>TM195</td>\n",
       "      <td>20</td>\n",
       "      <td>Male</td>\n",
       "      <td>13</td>\n",
       "      <td>Partnered</td>\n",
       "      <td>4</td>\n",
       "      <td>2</td>\n",
       "      <td>35247</td>\n",
       "      <td>47</td>\n",
       "    </tr>\n",
       "  </tbody>\n",
       "</table>\n",
       "</div>"
      ],
      "text/plain": [
       "  Product  Age  Gender  Education MaritalStatus  Usage  Fitness  Income  Miles\n",
       "0   TM195   18    Male         14        Single      3        4   29562    112\n",
       "1   TM195   19    Male         15        Single      2        3   31836     75\n",
       "2   TM195   19  Female         14     Partnered      4        3   30699     66\n",
       "3   TM195   19    Male         12        Single      3        3   32973     85\n",
       "4   TM195   20    Male         13     Partnered      4        2   35247     47"
      ]
     },
     "execution_count": 4,
     "metadata": {},
     "output_type": "execute_result"
    }
   ],
   "source": [
    "# Acquiring the data from the csv file into Python using Pandas and displaying first 5 rows\n",
    "df = pd.read_csv('CardioGoodFitness.csv')\n",
    "df.head()"
   ]
  },
  {
   "cell_type": "markdown",
   "id": "7177d6ea",
   "metadata": {},
   "source": [
    "## II. Clean & Prepare Data"
   ]
  },
  {
   "cell_type": "code",
   "execution_count": 5,
   "id": "7ed8b757",
   "metadata": {},
   "outputs": [
    {
     "data": {
      "text/plain": [
       "(180, 9)"
      ]
     },
     "execution_count": 5,
     "metadata": {},
     "output_type": "execute_result"
    }
   ],
   "source": [
    "# Checking the number of rows and columns\n",
    "df.shape"
   ]
  },
  {
   "cell_type": "code",
   "execution_count": 6,
   "id": "94ecf1d2",
   "metadata": {},
   "outputs": [
    {
     "name": "stdout",
     "output_type": "stream",
     "text": [
      "<class 'pandas.core.frame.DataFrame'>\n",
      "RangeIndex: 180 entries, 0 to 179\n",
      "Data columns (total 9 columns):\n",
      " #   Column         Non-Null Count  Dtype \n",
      "---  ------         --------------  ----- \n",
      " 0   Product        180 non-null    object\n",
      " 1   Age            180 non-null    int64 \n",
      " 2   Gender         180 non-null    object\n",
      " 3   Education      180 non-null    int64 \n",
      " 4   MaritalStatus  180 non-null    object\n",
      " 5   Usage          180 non-null    int64 \n",
      " 6   Fitness        180 non-null    int64 \n",
      " 7   Income         180 non-null    int64 \n",
      " 8   Miles          180 non-null    int64 \n",
      "dtypes: int64(6), object(3)\n",
      "memory usage: 12.8+ KB\n"
     ]
    }
   ],
   "source": [
    "#checking the DataFrame for nulls\n",
    "df.info()"
   ]
  },
  {
   "cell_type": "code",
   "execution_count": 7,
   "id": "b2badd21",
   "metadata": {},
   "outputs": [
    {
     "data": {
      "text/plain": [
       "Product          0\n",
       "Age              0\n",
       "Gender           0\n",
       "Education        0\n",
       "MaritalStatus    0\n",
       "Usage            0\n",
       "Fitness          0\n",
       "Income           0\n",
       "Miles            0\n",
       "dtype: int64"
      ]
     },
     "execution_count": 7,
     "metadata": {},
     "output_type": "execute_result"
    }
   ],
   "source": [
    "#checking the nulls\n",
    "df.isnull().sum()"
   ]
  },
  {
   "cell_type": "code",
   "execution_count": 8,
   "id": "1a746386",
   "metadata": {},
   "outputs": [
    {
     "data": {
      "text/html": [
       "<div>\n",
       "<style scoped>\n",
       "    .dataframe tbody tr th:only-of-type {\n",
       "        vertical-align: middle;\n",
       "    }\n",
       "\n",
       "    .dataframe tbody tr th {\n",
       "        vertical-align: top;\n",
       "    }\n",
       "\n",
       "    .dataframe thead th {\n",
       "        text-align: right;\n",
       "    }\n",
       "</style>\n",
       "<table border=\"1\" class=\"dataframe\">\n",
       "  <thead>\n",
       "    <tr style=\"text-align: right;\">\n",
       "      <th></th>\n",
       "      <th>Age</th>\n",
       "      <th>Education</th>\n",
       "      <th>Usage</th>\n",
       "      <th>Fitness</th>\n",
       "      <th>Income</th>\n",
       "      <th>Miles</th>\n",
       "    </tr>\n",
       "  </thead>\n",
       "  <tbody>\n",
       "    <tr>\n",
       "      <th>count</th>\n",
       "      <td>180.000000</td>\n",
       "      <td>180.000000</td>\n",
       "      <td>180.000000</td>\n",
       "      <td>180.000000</td>\n",
       "      <td>180.000000</td>\n",
       "      <td>180.000000</td>\n",
       "    </tr>\n",
       "    <tr>\n",
       "      <th>mean</th>\n",
       "      <td>28.788889</td>\n",
       "      <td>15.572222</td>\n",
       "      <td>3.455556</td>\n",
       "      <td>3.311111</td>\n",
       "      <td>53719.577778</td>\n",
       "      <td>103.194444</td>\n",
       "    </tr>\n",
       "    <tr>\n",
       "      <th>std</th>\n",
       "      <td>6.943498</td>\n",
       "      <td>1.617055</td>\n",
       "      <td>1.084797</td>\n",
       "      <td>0.958869</td>\n",
       "      <td>16506.684226</td>\n",
       "      <td>51.863605</td>\n",
       "    </tr>\n",
       "    <tr>\n",
       "      <th>min</th>\n",
       "      <td>18.000000</td>\n",
       "      <td>12.000000</td>\n",
       "      <td>2.000000</td>\n",
       "      <td>1.000000</td>\n",
       "      <td>29562.000000</td>\n",
       "      <td>21.000000</td>\n",
       "    </tr>\n",
       "    <tr>\n",
       "      <th>25%</th>\n",
       "      <td>24.000000</td>\n",
       "      <td>14.000000</td>\n",
       "      <td>3.000000</td>\n",
       "      <td>3.000000</td>\n",
       "      <td>44058.750000</td>\n",
       "      <td>66.000000</td>\n",
       "    </tr>\n",
       "    <tr>\n",
       "      <th>50%</th>\n",
       "      <td>26.000000</td>\n",
       "      <td>16.000000</td>\n",
       "      <td>3.000000</td>\n",
       "      <td>3.000000</td>\n",
       "      <td>50596.500000</td>\n",
       "      <td>94.000000</td>\n",
       "    </tr>\n",
       "    <tr>\n",
       "      <th>75%</th>\n",
       "      <td>33.000000</td>\n",
       "      <td>16.000000</td>\n",
       "      <td>4.000000</td>\n",
       "      <td>4.000000</td>\n",
       "      <td>58668.000000</td>\n",
       "      <td>114.750000</td>\n",
       "    </tr>\n",
       "    <tr>\n",
       "      <th>max</th>\n",
       "      <td>50.000000</td>\n",
       "      <td>21.000000</td>\n",
       "      <td>7.000000</td>\n",
       "      <td>5.000000</td>\n",
       "      <td>104581.000000</td>\n",
       "      <td>360.000000</td>\n",
       "    </tr>\n",
       "  </tbody>\n",
       "</table>\n",
       "</div>"
      ],
      "text/plain": [
       "              Age   Education       Usage     Fitness         Income  \\\n",
       "count  180.000000  180.000000  180.000000  180.000000     180.000000   \n",
       "mean    28.788889   15.572222    3.455556    3.311111   53719.577778   \n",
       "std      6.943498    1.617055    1.084797    0.958869   16506.684226   \n",
       "min     18.000000   12.000000    2.000000    1.000000   29562.000000   \n",
       "25%     24.000000   14.000000    3.000000    3.000000   44058.750000   \n",
       "50%     26.000000   16.000000    3.000000    3.000000   50596.500000   \n",
       "75%     33.000000   16.000000    4.000000    4.000000   58668.000000   \n",
       "max     50.000000   21.000000    7.000000    5.000000  104581.000000   \n",
       "\n",
       "            Miles  \n",
       "count  180.000000  \n",
       "mean   103.194444  \n",
       "std     51.863605  \n",
       "min     21.000000  \n",
       "25%     66.000000  \n",
       "50%     94.000000  \n",
       "75%    114.750000  \n",
       "max    360.000000  "
      ]
     },
     "execution_count": 8,
     "metadata": {},
     "output_type": "execute_result"
    }
   ],
   "source": [
    "#checking overall statistics about the dataset\n",
    "df.describe()"
   ]
  },
  {
   "cell_type": "code",
   "execution_count": 9,
   "id": "782105fd",
   "metadata": {},
   "outputs": [
    {
     "data": {
      "text/plain": [
       "Index(['Product', 'Age', 'Gender', 'Education', 'MaritalStatus', 'Usage',\n",
       "       'Fitness', 'Income', 'Miles'],\n",
       "      dtype='object')"
      ]
     },
     "execution_count": 9,
     "metadata": {},
     "output_type": "execute_result"
    }
   ],
   "source": [
    "#checking DataFrame columns\n",
    "df.columns"
   ]
  },
  {
   "cell_type": "markdown",
   "id": "8260d36d",
   "metadata": {},
   "source": [
    "### Takeaways\n",
    "- The dataset contains 180 rows and 9 columns\n",
    "- The datset has no nulls\n",
    "- The dataset looks clean with all columns upper case"
   ]
  },
  {
   "cell_type": "markdown",
   "id": "ab88a32e",
   "metadata": {},
   "source": [
    "## III. Exploratory Data Analysis"
   ]
  },
  {
   "cell_type": "code",
   "execution_count": 10,
   "id": "6da5dcfe",
   "metadata": {},
   "outputs": [
    {
     "data": {
      "image/png": "[encoded data removed]",
      "text/plain": [
       "<Figure size 864x1152 with 6 Axes>"
      ]
     },
     "metadata": {
      "needs_background": "light"
     },
     "output_type": "display_data"
    }
   ],
   "source": [
    "df.hist(figsize=(12,16))\n",
    "plt.show()"
   ]
  },
  {
   "cell_type": "code",
   "execution_count": null,
   "id": "da3d5cfd",
   "metadata": {},
   "outputs": [],
   "source": []
  }
 ],
 "metadata": {
  "kernelspec": {
   "display_name": "Python 3 (ipykernel)",
   "language": "python",
   "name": "python3"
  },
  "language_info": {
   "codemirror_mode": {
    "name": "ipython",
    "version": 3
   },
   "file_extension": ".py",
   "mimetype": "text/x-python",
   "name": "python",
   "nbconvert_exporter": "python",
   "pygments_lexer": "ipython3",
   "version": "3.9.12"
  }
 },
 "nbformat": 4,
 "nbformat_minor": 5
}
